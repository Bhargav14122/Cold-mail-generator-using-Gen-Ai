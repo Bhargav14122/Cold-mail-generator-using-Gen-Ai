{
 "cells": [
  {
   "cell_type": "code",
   "execution_count": 2,
   "id": "a9120662-a8ab-480c-98f7-6b66f1d63c02",
   "metadata": {},
   "outputs": [],
   "source": [
    "from langchain_groq import ChatGroq\n"
   ]
  },
  {
   "cell_type": "code",
   "execution_count": 3,
   "id": "ffff31bd-9015-4ad7-862f-17f1f3d46dab",
   "metadata": {},
   "outputs": [
    {
     "name": "stdout",
     "output_type": "stream",
     "text": [
      "The first person to land on the moon was Neil Armstrong. He stepped out of the lunar module Eagle and onto the moon's surface on July 20, 1969, as part of the Apollo 11 mission. Armstrong famously declared, \"That's one small step for man, one giant leap for mankind,\" as he became the first human to set foot on the moon.\n"
     ]
    }
   ],
   "source": [
    "llm = ChatGroq(\n",
    "    temperature=0, \n",
    "    groq_api_key='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', \n",
    "    model_name=\"llama-3.3-70b-versatile\"\n",
    ")\n",
    "response = llm.invoke(\"The first person to land on moon was ...\")\n",
    "print(response.content)"
   ]
  },
  {
   "cell_type": "code",
   "execution_count": 4,
   "id": "a7ead648-c6db-4155-be1d-f58c68f138a8",
   "metadata": {},
   "outputs": [
    {
     "name": "stderr",
     "output_type": "stream",
     "text": [
      "USER_AGENT environment variable not set, consider setting it to identify your requests.\n"
     ]
    },
    {
     "name": "stdout",
     "output_type": "stream",
     "text": [
      "\n",
      "\n",
      "\n",
      "Software Development Engineer in Test - IS&T - Jobs at Apple (IN) \n",
      "\n",
      "\n",
      "\n",
      "\n",
      "\n",
      "\n",
      "\n",
      "\n",
      "\n",
      "\n",
      "\n",
      "\n",
      "\n",
      "AppleStoreMaciPadiPhoneWatchAirPodsTV & HomeEntertainmentAccessoriesSupport\n",
      "\n",
      "\n",
      "0+\n",
      "\n",
      "\n",
      "    Please enable Javascript in your browser for best experience.\n",
      "  \n",
      "\n",
      "Jobs at AppleOpen MenuClose MenuWork at AppleLife at AppleProfileSign In\n",
      "Search\n",
      "Software Development Engineer in Test - IS&THyderabad, Telangana, IndiaSoftware and ServicesSubmit CVBack to search resultsSummaryPosted: \n",
      "                Jun 23, 2025Role Number:200539849At Apple, new ideas have a way of becoming extraordinary products, services and customer experiences very quickly. Bring passion and dedication to your job, and there's no telling what you could accomplish. The people here at Apple don't just craft products - they build the kind of wonder that's revolutionised entire industries!. It's the diversity of those people and their ideas that encourages the innovation that runs through everything we do, from amazing technology to industry-leading environmental efforts. Join Apple, and help us leave the world better than we found it. \n",
      "\n",
      "Apple’s IS&T team is looking for a passionate Software Quality Engineer to contribute to design, analysis and certification of our applications. We are looking for someone who is equally passionate about quality and using lightweight processes to consistently achieve it. The role would also involve interacting with multi-functional engineering and product teams to test features, perform root cause analysis, and drive the quality of customer's experience.DescriptionIn this role, you will be involved in quality engineering for critical customer facing applications, work in a fast-paced, dynamic environment and be directly responsible for: \n",
      "\n",
      "-  The quality of Apple’s products, including consistent functionality, performance and stability\n",
      "\n",
      "-  Understanding new and existing feature implementations in order to craft informed, robust testing charters\n",
      "\n",
      "-  Authoring and reviewing test scenarios, scripts and plans\n",
      "\n",
      "-  Conduct functional, regression, performance, and security testing using automation tools\n",
      "\n",
      "-  Identifying and report defects, inclusive of first-level root cause analysis and consistent steps to reproduce\n",
      "\n",
      "-  Design, develop, and maintain automated test frameworks, scripts, and test cases for web, API, and mobile applications\n",
      "\n",
      "-  Collaborate with developers, product managers, and QA teams to define test strategies and acceptance criteria\n",
      "\n",
      "-  Implement CI/CD pipeline integration to enhance automated testing execution\n",
      "\n",
      "-  Analyze test results, report defects, and track issues using defect management tools\n",
      "\n",
      "-  Continuously improve test automation frameworks and enhance testing efficiency\n",
      "\n",
      "-  Championing quality efforts beyond test execution, including collaborating with test automation engineering teams, product management teams and engineering program teamsMinimum Qualifications4 to 14 years experience in software quality assurance testingStrong practical 2 years experience in automation with Java, Python and/or Swift or any OO languageExperience in testing API/Web Service, Web apps or Mac/iOS/iPadOS native applicationsStrong hands-on experience on Core Java, Karate, RestAssured, Playwright/Selenium, Appium/XCUI or similar frameworksExcellent written and verbal communication skillsPreferred QualificationsGood knowledge of automation framework architecture, design and developmentExpertise in QE processes, tools and metricsExperience in Maven/Gradle and Git repositories is requiredExperience of working in Agile development environment with high quality productSolid understanding of software build tools, CI/CD integrations, deployment process and code quality checking toolsUnderstands logs scanning to identify the errors and root causeExperience in testing microservices and cloud-based applicationsStrong problem-solving, debugging, and analytical skillsHunger to learn and explore new technologies which will optimise the existing solutionsHands on experience with Load, Resiliency & Performance testing. Exposure to Jmeter/Gatling/Locust performance testing frameworkExperience with Testing of AI/ML applications, Security and Accessibility testing is good to haveExperience in cloud technologies such as AWS/GCP and containerisation technologies such as Docker or Kubernetes is good to haveExperience with ServiceNow is nice to haveEducation & ExperienceBachelors Degree in Computer Science or equivalent experienceSubmit CVBack to search resultsSee all roles in Hyderabad\n",
      "\n",
      "Apple FooterAt Apple, we’re not all the same. And that’s our greatest strength. We draw on the differences in who we are, what we’ve experienced, and how we think. Because to create products that serve everyone, we believe in including everyone. Therefore, we are committed to treating all applicants fairly and equally. We will work with applicants to make any reasonable accommodations.AppleCareers at AppleCareers at AppleShop and LearnShop and LearnStoreMaciPadiPhoneWatchAirPodsTV & HomeAirTagAccessoriesGift CardsApple WalletApple WalletWalletAccountAccountManage Your Apple IDApple Store AccountiCloud.comEntertainmentEntertainmentApple OneApple TV+Apple MusicApple ArcadeApple PodcastsApple BooksApp StoreApple StoreApple StoreFind a StoreGenius BarToday at AppleGroup ReservationsApple CampApple Trade InWays to BuyRecycling ProgrammeOrder StatusShopping HelpFor BusinessFor BusinessApple and BusinessShop for BusinessFor EducationFor EducationApple and EducationShop for EducationShop for UniversityFor HealthcareFor HealthcareApple in HealthcareHealth on Apple WatchApple ValuesApple ValuesAccessibilityEducationEnvironmentPrivacySupply ChainAbout AppleAbout AppleNewsroomApple LeadershipCareer OpportunitiesInvestorsEthics & ComplianceEventsContact Apple\n",
      "More ways to shop: Find an Apple Store or other retailer near you. Or call 000800 040 1966.IndiaCopyright © 2024 Apple Inc. All rights reserved.Privacy PolicyTerms of UseSales PolicyLegalSite Map\n",
      "\n",
      "\n",
      "\n",
      "\n",
      "\n",
      "\n",
      "\n",
      "\n",
      "\n",
      "\n"
     ]
    }
   ],
   "source": [
    "from langchain_community.document_loaders import WebBaseLoader\n",
    "\n",
    "loader = WebBaseLoader(\"https://jobs.apple.com/en-in/details/200539849/software-development-engineer-in-test-is-t?team=SFTWR\")\n",
    "page_data = loader.load().pop().page_content\n",
    "print(page_data)"
   ]
  },
  {
   "cell_type": "code",
   "execution_count": 9,
   "id": "d1a62534-fc3f-4d56-b784-9a7c3e18ccdb",
   "metadata": {},
   "outputs": [
    {
     "data": {
      "text/plain": [
       "str"
      ]
     },
     "execution_count": 9,
     "metadata": {},
     "output_type": "execute_result"
    }
   ],
   "source": [
    "from langchain_core.prompts import PromptTemplate\n",
    "\n",
    "prompt_extract = PromptTemplate.from_template(\n",
    "        \"\"\"\n",
    "        ### SCRAPED TEXT FROM WEBSITE:\n",
    "        {page_data}\n",
    "        ### INSTRUCTION:\n",
    "        The scraped text is from the career's page of a website.\n",
    "        Your job is to extract the job postings and return them in JSON format containing the \n",
    "        following keys: `role`, `experience`, `skills` and `description`.\n",
    "        Only return the valid JSON.\n",
    "        ### VALID JSON (NO PREAMBLE):    \n",
    "        \"\"\"\n",
    ")\n",
    "\n",
    "chain_extract = prompt_extract | llm \n",
    "res = chain_extract.invoke(input={'page_data':page_data})\n",
    "type(res.content)"
   ]
  },
  {
   "cell_type": "code",
   "execution_count": 14,
   "id": "9f1e5640-7e32-46fc-a033-c7ad2a1ec3d5",
   "metadata": {},
   "outputs": [
    {
     "data": {
      "text/plain": [
       "{'role': 'Software Development Engineer in Test - IS&T',\n",
       " 'experience': '4 to 14 years',\n",
       " 'skills': ['Java',\n",
       "  'Python',\n",
       "  'Swift',\n",
       "  'Core Java',\n",
       "  'Karate',\n",
       "  'RestAssured',\n",
       "  'Playwright/Selenium',\n",
       "  'Appium/XCUI',\n",
       "  'Maven/Gradle',\n",
       "  'Git',\n",
       "  'Agile development',\n",
       "  'CI/CD integrations',\n",
       "  'Jmeter/Gatling/Locust',\n",
       "  'AWS/GCP',\n",
       "  'Docker',\n",
       "  'Kubernetes',\n",
       "  'ServiceNow'],\n",
       " 'description': \"The IS&T team is looking for a passionate Software Quality Engineer to contribute to design, analysis and certification of our applications. The role involves interacting with multi-functional engineering and product teams to test features, perform root cause analysis, and drive the quality of customer's experience.\"}"
      ]
     },
     "execution_count": 14,
     "metadata": {},
     "output_type": "execute_result"
    }
   ],
   "source": [
    "from langchain_core.output_parsers import JsonOutputParser\n",
    "res = chain_extract.invoke(input={'page_data':page_data})\n",
    "\n",
    "json_parser = JsonOutputParser()\n",
    "json_res = json_parser.parse(res.content)\n",
    "json_res"
   ]
  },
  {
   "cell_type": "code",
   "execution_count": 15,
   "id": "cc8e4d5e-d558-4902-a05d-8056873463e5",
   "metadata": {},
   "outputs": [
    {
     "data": {
      "text/plain": [
       "dict"
      ]
     },
     "execution_count": 15,
     "metadata": {},
     "output_type": "execute_result"
    }
   ],
   "source": [
    "type(json_res)"
   ]
  },
  {
   "cell_type": "code",
   "execution_count": 11,
   "id": "52c36adf-7060-4536-9487-0f96ebe4906a",
   "metadata": {},
   "outputs": [
    {
     "data": {
      "text/html": [
       "<div>\n",
       "<style scoped>\n",
       "    .dataframe tbody tr th:only-of-type {\n",
       "        vertical-align: middle;\n",
       "    }\n",
       "\n",
       "    .dataframe tbody tr th {\n",
       "        vertical-align: top;\n",
       "    }\n",
       "\n",
       "    .dataframe thead th {\n",
       "        text-align: right;\n",
       "    }\n",
       "</style>\n",
       "<table border=\"1\" class=\"dataframe\">\n",
       "  <thead>\n",
       "    <tr style=\"text-align: right;\">\n",
       "      <th></th>\n",
       "      <th>Techstack</th>\n",
       "      <th>Links</th>\n",
       "    </tr>\n",
       "  </thead>\n",
       "  <tbody>\n",
       "    <tr>\n",
       "      <th>0</th>\n",
       "      <td>React, Node.js, MongoDB</td>\n",
       "      <td>https://example.com/react-portfolio</td>\n",
       "    </tr>\n",
       "    <tr>\n",
       "      <th>1</th>\n",
       "      <td>Angular,.NET, SQL Server</td>\n",
       "      <td>https://example.com/angular-portfolio</td>\n",
       "    </tr>\n",
       "    <tr>\n",
       "      <th>2</th>\n",
       "      <td>Vue.js, Ruby on Rails, PostgreSQL</td>\n",
       "      <td>https://example.com/vue-portfolio</td>\n",
       "    </tr>\n",
       "    <tr>\n",
       "      <th>3</th>\n",
       "      <td>Python, Django, MySQL</td>\n",
       "      <td>https://example.com/python-portfolio</td>\n",
       "    </tr>\n",
       "    <tr>\n",
       "      <th>4</th>\n",
       "      <td>Java, Spring Boot, Oracle</td>\n",
       "      <td>https://example.com/java-portfolio</td>\n",
       "    </tr>\n",
       "    <tr>\n",
       "      <th>5</th>\n",
       "      <td>Flutter, Firebase, GraphQL</td>\n",
       "      <td>https://example.com/flutter-portfolio</td>\n",
       "    </tr>\n",
       "    <tr>\n",
       "      <th>6</th>\n",
       "      <td>WordPress, PHP, MySQL</td>\n",
       "      <td>https://example.com/wordpress-portfolio</td>\n",
       "    </tr>\n",
       "    <tr>\n",
       "      <th>7</th>\n",
       "      <td>Magento, PHP, MySQL</td>\n",
       "      <td>https://example.com/magento-portfolio</td>\n",
       "    </tr>\n",
       "    <tr>\n",
       "      <th>8</th>\n",
       "      <td>React Native, Node.js, MongoDB</td>\n",
       "      <td>https://example.com/react-native-portfolio</td>\n",
       "    </tr>\n",
       "    <tr>\n",
       "      <th>9</th>\n",
       "      <td>iOS, Swift, Core Data</td>\n",
       "      <td>https://example.com/ios-portfolio</td>\n",
       "    </tr>\n",
       "    <tr>\n",
       "      <th>10</th>\n",
       "      <td>Android, Java, Room Persistence</td>\n",
       "      <td>https://example.com/android-portfolio</td>\n",
       "    </tr>\n",
       "    <tr>\n",
       "      <th>11</th>\n",
       "      <td>Kotlin, Android, Firebase</td>\n",
       "      <td>https://example.com/kotlin-android-portfolio</td>\n",
       "    </tr>\n",
       "    <tr>\n",
       "      <th>12</th>\n",
       "      <td>Android TV, Kotlin, Android NDK</td>\n",
       "      <td>https://example.com/android-tv-portfolio</td>\n",
       "    </tr>\n",
       "    <tr>\n",
       "      <th>13</th>\n",
       "      <td>iOS, Swift, ARKit</td>\n",
       "      <td>https://example.com/ios-ar-portfolio</td>\n",
       "    </tr>\n",
       "    <tr>\n",
       "      <th>14</th>\n",
       "      <td>Cross-platform, Xamarin, Azure</td>\n",
       "      <td>https://example.com/xamarin-portfolio</td>\n",
       "    </tr>\n",
       "    <tr>\n",
       "      <th>15</th>\n",
       "      <td>Backend, Kotlin, Spring Boot</td>\n",
       "      <td>https://example.com/kotlin-backend-portfolio</td>\n",
       "    </tr>\n",
       "    <tr>\n",
       "      <th>16</th>\n",
       "      <td>Frontend, TypeScript, Angular</td>\n",
       "      <td>https://example.com/typescript-frontend-portfolio</td>\n",
       "    </tr>\n",
       "    <tr>\n",
       "      <th>17</th>\n",
       "      <td>Full-stack, JavaScript, Express.js</td>\n",
       "      <td>https://example.com/full-stack-js-portfolio</td>\n",
       "    </tr>\n",
       "    <tr>\n",
       "      <th>18</th>\n",
       "      <td>Machine Learning, Python, TensorFlow</td>\n",
       "      <td>https://example.com/ml-python-portfolio</td>\n",
       "    </tr>\n",
       "    <tr>\n",
       "      <th>19</th>\n",
       "      <td>DevOps, Jenkins, Docker</td>\n",
       "      <td>https://example.com/devops-portfolio</td>\n",
       "    </tr>\n",
       "  </tbody>\n",
       "</table>\n",
       "</div>"
      ],
      "text/plain": [
       "                               Techstack  \\\n",
       "0                React, Node.js, MongoDB   \n",
       "1               Angular,.NET, SQL Server   \n",
       "2      Vue.js, Ruby on Rails, PostgreSQL   \n",
       "3                  Python, Django, MySQL   \n",
       "4              Java, Spring Boot, Oracle   \n",
       "5             Flutter, Firebase, GraphQL   \n",
       "6                  WordPress, PHP, MySQL   \n",
       "7                    Magento, PHP, MySQL   \n",
       "8         React Native, Node.js, MongoDB   \n",
       "9                  iOS, Swift, Core Data   \n",
       "10       Android, Java, Room Persistence   \n",
       "11             Kotlin, Android, Firebase   \n",
       "12       Android TV, Kotlin, Android NDK   \n",
       "13                     iOS, Swift, ARKit   \n",
       "14        Cross-platform, Xamarin, Azure   \n",
       "15          Backend, Kotlin, Spring Boot   \n",
       "16         Frontend, TypeScript, Angular   \n",
       "17    Full-stack, JavaScript, Express.js   \n",
       "18  Machine Learning, Python, TensorFlow   \n",
       "19               DevOps, Jenkins, Docker   \n",
       "\n",
       "                                                Links  \n",
       "0                 https://example.com/react-portfolio  \n",
       "1               https://example.com/angular-portfolio  \n",
       "2                   https://example.com/vue-portfolio  \n",
       "3                https://example.com/python-portfolio  \n",
       "4                  https://example.com/java-portfolio  \n",
       "5               https://example.com/flutter-portfolio  \n",
       "6             https://example.com/wordpress-portfolio  \n",
       "7               https://example.com/magento-portfolio  \n",
       "8          https://example.com/react-native-portfolio  \n",
       "9                   https://example.com/ios-portfolio  \n",
       "10              https://example.com/android-portfolio  \n",
       "11       https://example.com/kotlin-android-portfolio  \n",
       "12           https://example.com/android-tv-portfolio  \n",
       "13               https://example.com/ios-ar-portfolio  \n",
       "14              https://example.com/xamarin-portfolio  \n",
       "15       https://example.com/kotlin-backend-portfolio  \n",
       "16  https://example.com/typescript-frontend-portfolio  \n",
       "17        https://example.com/full-stack-js-portfolio  \n",
       "18            https://example.com/ml-python-portfolio  \n",
       "19               https://example.com/devops-portfolio  "
      ]
     },
     "execution_count": 11,
     "metadata": {},
     "output_type": "execute_result"
    }
   ],
   "source": [
    "import pandas as pd\n",
    "\n",
    "df = pd.read_csv(\"my_portfolio.csv\")\n",
    "df"
   ]
  },
  {
   "cell_type": "code",
   "execution_count": 12,
   "id": "a0b672a3-84f0-4068-b19a-4132dc8b8030",
   "metadata": {},
   "outputs": [],
   "source": [
    "import uuid\n",
    "import chromadb\n",
    "\n",
    "client = chromadb.PersistentClient('vectorstore')\n",
    "collection = client.get_or_create_collection(name=\"portfolio\")\n",
    "\n",
    "if not collection.count():\n",
    "    for _, row in df.iterrows():\n",
    "        collection.add(documents=row[\"Techstack\"],\n",
    "                       metadatas={\"links\": row[\"Links\"]},\n",
    "                       ids=[str(uuid.uuid4())])"
   ]
  },
  {
   "cell_type": "code",
   "execution_count": 13,
   "id": "bc317bf9-91f8-4bae-a13d-d76fa24629a0",
   "metadata": {},
   "outputs": [
    {
     "data": {
      "text/plain": [
       "[[{'links': 'https://example.com/ml-python-portfolio'},\n",
       "  {'links': 'https://example.com/python-portfolio'}]]"
      ]
     },
     "execution_count": 13,
     "metadata": {},
     "output_type": "execute_result"
    }
   ],
   "source": [
    "links = collection.query(query_texts=['Experience  python'], n_results=2).get('metadatas', [])\n",
    "links"
   ]
  },
  {
   "cell_type": "code",
   "execution_count": 16,
   "id": "24761f05-81c5-4ce8-99a2-0b6f9cb7c02a",
   "metadata": {},
   "outputs": [
    {
     "data": {
      "text/plain": [
       "['Java',\n",
       " 'Python',\n",
       " 'Swift',\n",
       " 'Core Java',\n",
       " 'Karate',\n",
       " 'RestAssured',\n",
       " 'Playwright/Selenium',\n",
       " 'Appium/XCUI',\n",
       " 'Maven/Gradle',\n",
       " 'Git',\n",
       " 'Agile development',\n",
       " 'CI/CD integrations',\n",
       " 'Jmeter/Gatling/Locust',\n",
       " 'AWS/GCP',\n",
       " 'Docker',\n",
       " 'Kubernetes',\n",
       " 'ServiceNow']"
      ]
     },
     "execution_count": 16,
     "metadata": {},
     "output_type": "execute_result"
    }
   ],
   "source": [
    "job = json_res\n",
    "job['skills']"
   ]
  },
  {
   "cell_type": "code",
   "execution_count": 18,
   "id": "e9416460-38fb-4b58-bd72-3bb55a9d48cb",
   "metadata": {},
   "outputs": [
    {
     "name": "stdout",
     "output_type": "stream",
     "text": [
      "Subject: Expert Software Development Engineer in Test - IS&T Solutions for Enhanced Quality Assurance\n",
      "\n",
      "Dear Hiring Manager,\n",
      "\n",
      "I came across the job description for a Software Development Engineer in Test - IS&T at your esteemed organization and was impressed by the role's focus on designing, analyzing, and certifying applications to drive customer experience quality. As a Business Development Executive at x, I'd like to introduce our company's capabilities in fulfilling your software testing and quality assurance needs.\n",
      "\n",
      "At x, we have a proven track record of empowering enterprises with tailored solutions that foster scalability, process optimization, cost reduction, and heightened overall efficiency. Our team of experts is well-versed in a range of technologies, including Java, Python, and Swift, which aligns perfectly with your job requirements. We have hands-on experience with testing frameworks like Karate, RestAssured, Playwright/Selenium, and Appium/XCUI, ensuring that our solutions meet the highest standards of quality.\n",
      "\n",
      "Our expertise extends to CI/CD integrations, Agile development, and cloud platforms like AWS/GCP, Docker, and Kubernetes. We've also worked with ServiceNow, Jmeter/Gatling/Locust, and other tools to ensure seamless integration and optimal performance. To demonstrate our capabilities, I'd like to share some relevant examples from our portfolio:\n",
      "\n",
      "* Our machine learning and Python expertise can be seen in projects like [https://example.com/ml-python-portfolio](https://example.com/ml-python-portfolio), where we've developed innovative solutions using Python.\n",
      "* Additionally, our Python portfolio [https://example.com/python-portfolio](https://example.com/python-portfolio) showcases our ability to deliver high-quality solutions using Python.\n",
      "\n",
      "By partnering with x, you can leverage our technical expertise to enhance your application testing and quality assurance processes. We're confident that our team can make a significant impact in driving the quality of your customers' experience.\n",
      "\n",
      "I'd be delighted to schedule a call to discuss how x can support your Software Development Engineer in Test - IS&T needs. Please let me know if you're interested, and I'll be happy to set up a time that suits you.\n",
      "\n",
      "Best regards,\n",
      "\n",
      "Mohan\n",
      "Business Development Executive\n",
      "x\n"
     ]
    }
   ],
   "source": [
    "prompt_email = PromptTemplate.from_template(\n",
    "        \"\"\"\n",
    "        ### JOB DESCRIPTION:\n",
    "        {job_description}\n",
    "        \n",
    "        ### INSTRUCTION:\n",
    "        You are Mohan, a business development executive at x. x is an AI & Software Consulting company dedicated to facilitating\n",
    "        the seamless integration of business processes through automated tools. \n",
    "        Over our experience, we have empowered numerous enterprises with tailored solutions, fostering scalability, \n",
    "        process optimization, cost reduction, and heightened overall efficiency. \n",
    "        Your job is to write a cold email to the client regarding the job mentioned above describing the capability of x \n",
    "        in fulfilling their needs.\n",
    "        Also add the most relevant ones from the following links to showcase x's portfolio: {link_list}\n",
    "        Remember you are Mohan, BDE at x. \n",
    "        Do not provide a preamble.\n",
    "        ### EMAIL (NO PREAMBLE):\n",
    "        \n",
    "        \"\"\"\n",
    "        )\n",
    "\n",
    "chain_email = prompt_email | llm\n",
    "res = chain_email.invoke({\"job_description\": str(job), \"link_list\": links})\n",
    "print(res.content)"
   ]
  },
  {
   "cell_type": "code",
   "execution_count": null,
   "id": "aa328044-6e94-4040-be61-c92f3a094ee5",
   "metadata": {},
   "outputs": [],
   "source": []
  }
 ],
 "metadata": {
  "kernelspec": {
   "display_name": "Python 3 (ipykernel)",
   "language": "python",
   "name": "python3"
  },
  "language_info": {
   "codemirror_mode": {
    "name": "ipython",
    "version": 3
   },
   "file_extension": ".py",
   "mimetype": "text/x-python",
   "name": "python",
   "nbconvert_exporter": "python",
   "pygments_lexer": "ipython3",
   "version": "3.10.18"
  }
 },
 "nbformat": 4,
 "nbformat_minor": 5
}
